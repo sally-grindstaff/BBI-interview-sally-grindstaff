{
 "cells": [
  {
   "cell_type": "code",
   "execution_count": 1,
   "id": "82e688e5",
   "metadata": {
    "lines_to_next_cell": 1
   },
   "outputs": [],
   "source": [
    "\n",
    "import pandas as pd\n",
    "import seaborn as sb\n",
    "import matplotlib.pyplot as plt\n",
    "import json"
   ]
  },
  {
   "cell_type": "code",
   "execution_count": 2,
   "id": "33bd4357",
   "metadata": {
    "lines_to_next_cell": 1
   },
   "outputs": [],
   "source": [
    "def add_wt_to_df(wildtype_seq, dataframe):\n",
    "    '''Takes a wildtype sequence and existing dataframe, and adds one entry per amino acid to the dataframe, with the variant score equal to 1.'''\n",
    "    position_list = []\n",
    "    substitution_list = []\n",
    "    score_list = []\n",
    "    for i, aa in enumerate(wildtype_seq):\n",
    "        position_list.append(i+1) # we are using 1-based indexing for position in sequence\n",
    "        substitution_list.append(aa)\n",
    "        score_list.append(1)\n",
    "    wildtype_df = pd.DataFrame(\n",
    "        {'position': position_list,\n",
    "        'substitution': substitution_list,\n",
    "        'score': score_list}\n",
    "        )\n",
    "    new_df = pd.concat([dataframe, wildtype_df]) # combine existing dataframe with new wildtype dataframe\n",
    "    return new_df"
   ]
  },
  {
   "cell_type": "code",
   "execution_count": 4,
   "id": "0a643bc2",
   "metadata": {},
   "outputs": [],
   "source": [
    "# Load array\n",
    "\n",
    "# Option 1: load array from JSON\n",
    "# replace path with path to your JSON file\n",
    "\n",
    "with open('test.json', 'r') as fh:\n",
    "    aa_array = json.load(fh)\n",
    "\n",
    "\n",
    "# Option 2: Enter array manually\n",
    "# Required structure (note: must use these exact object names, lowercase):\n",
    "# [\n",
    "# {\n",
    "#     'position': <int>,\n",
    "# 'substitution': <str>,\n",
    "# 'score': <flt>\n",
    "# },\n",
    "# {\n",
    "#     'position': <int>,\n",
    "# 'substitution': <str>,\n",
    "# 'score': <flt>\n",
    "# }\n",
    "# ]\n",
    "\n",
    "# aa_array = []\n",
    "    "
   ]
  },
  {
   "cell_type": "code",
   "execution_count": 5,
   "id": "8eb8f64b",
   "metadata": {},
   "outputs": [],
   "source": [
    "# convert array to DataFrame\n",
    "df = pd.DataFrame(aa_array)"
   ]
  },
  {
   "cell_type": "code",
   "execution_count": 6,
   "id": "d7605c5d",
   "metadata": {},
   "outputs": [],
   "source": [
    "# load wildtype sequence\n",
    "\n",
    "# Option 1: Load from text file containing the sequence on one line\n",
    "# Replace 'seq_path' with path to your text file\n",
    "# with open(seq_path, 'r') as fh:\n",
    "#     wt_seq = fh.read()\n",
    "\n",
    "# Option 2: Enter wildtype sequence as string here:\n",
    "wt_seq = 'MARND'\n"
   ]
  },
  {
   "cell_type": "code",
   "execution_count": 7,
   "id": "37869946",
   "metadata": {},
   "outputs": [],
   "source": [
    "# check that wildtype sequence does not exceed 40 amino acids\n",
    "seq_len = len(wt_seq)\n",
    "if seq_len > 40:\n",
    "    raise Exception('Error: Length of wildtype sequence exceeds limit (40 amino acids).')"
   ]
  },
  {
   "cell_type": "code",
   "execution_count": 8,
   "id": "4525ae2e",
   "metadata": {},
   "outputs": [],
   "source": [
    "# add wildtype entries to df to differentiate them from truly missing values\n",
    "df = add_wt_to_df(wt_seq, df)"
   ]
  },
  {
   "cell_type": "code",
   "execution_count": 9,
   "id": "91e3f3c6",
   "metadata": {},
   "outputs": [
    {
     "data": {
      "image/png": "[encoded data removed]",
      "text/plain": [
       "<Figure size 640x480 with 2 Axes>"
      ]
     },
     "metadata": {},
     "output_type": "display_data"
    }
   ],
   "source": [
    "# pivot wide\n",
    "df_wide = df.pivot(index='substitution', columns='position', values='score')\n",
    "# mask missing entries\n",
    "mask = df_wide.isnull()\n",
    "# generate heatmap\n",
    "heat_map = sb.heatmap(df_wide, cmap=\"RdBu_r\", center=1, mask=mask)\n",
    "heat_map.set_facecolor('black') # missing entries show up as black\n",
    "plt.show()"
   ]
  },
  {
   "cell_type": "code",
   "execution_count": null,
   "id": "370bd5ba",
   "metadata": {},
   "outputs": [],
   "source": []
  }
 ],
 "metadata": {
  "jupytext": {
   "cell_metadata_filter": "-all",
   "executable": "/usr/bin/env python",
   "main_language": "python",
   "notebook_metadata_filter": "-all"
  },
  "kernelspec": {
   "display_name": "Python [conda env:seaborn]",
   "language": "python",
   "name": "conda-env-seaborn-py"
  },
  "language_info": {
   "codemirror_mode": {
    "name": "ipython",
    "version": 3
   },
   "file_extension": ".py",
   "mimetype": "text/x-python",
   "name": "python",
   "nbconvert_exporter": "python",
   "pygments_lexer": "ipython3",
   "version": "3.10.9"
  }
 },
 "nbformat": 4,
 "nbformat_minor": 5
}
